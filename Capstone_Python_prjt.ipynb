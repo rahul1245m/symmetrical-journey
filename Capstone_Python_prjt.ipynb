{
  "nbformat": 4,
  "nbformat_minor": 0,
  "metadata": {
    "colab": {
      "provenance": []
    },
    "kernelspec": {
      "name": "python3",
      "display_name": "Python 3"
    },
    "language_info": {
      "name": "python"
    }
  },
  "cells": [
    {
      "cell_type": "markdown",
      "source": [
        "                                             Project Title: OTP Verification System"
      ],
      "metadata": {
        "id": "qG9ZqiSMEat3"
      }
    },
    {
      "cell_type": "markdown",
      "source": [
        "You are tasked with developing an OTP (One-Time Password) verification system in Python. The system should generate a 6-digit OTP and send it to the user's email address for verification. Upon receiving the OTP, the user should enter it into the system for validation. If the entered OTP matches the generated OTP, access should be granted; otherwise, access should be denied."
      ],
      "metadata": {
        "id": "l1sKActYEXP9"
      }
    },
    {
      "cell_type": "code",
      "source": [
        "import random\n",
        "import string             #this are the required libraries which we are going to implement for the otp verification System project.\n",
        "import re\n",
        "import smtplib"
      ],
      "metadata": {
        "id": "a-AqywjBD2lO"
      },
      "execution_count": 8,
      "outputs": []
    },
    {
      "cell_type": "markdown",
      "source": [
        "Implement a function to generate a 6-digit OTP randomly.\n",
        "\n",
        "Now we will generate a random number and store it in a variable for\n",
        "\n",
        "which we will be using while sending emails to the users:"
      ],
      "metadata": {
        "id": "FiCorfyeFhaT"
      }
    },
    {
      "cell_type": "code",
      "source": [
        "def generate_otp():\n",
        "    \"\"\"Generate a random OTP of given length.\"\"\"          # this function generate_otp which help you to create an random generated 6 digit OTP.\n",
        "    digits = \"0123456789\"\n",
        "    otp = ''.join(random.choice(digits) for i in range(6))\n",
        "    return otp"
      ],
      "metadata": {
        "id": "GR0xgiqDD44X"
      },
      "execution_count": 9,
      "outputs": []
    },
    {
      "cell_type": "markdown",
      "source": [
        "\n",
        "##STEPS TO GENERATE APP PASSWORD\n",
        "\n",
        "1. Go to your Google Account.\n",
        "\n",
        "2. Select Security.\n",
        "\n",
        "3. Under \"Signing in to Google,\" select App Passwords.\n",
        "\n",
        "4. If you don’t have App Password option, it might be because:\n",
        "2-Step Verification is not set up for your account. 2-Step Verification is only set up for security keys. Your account is through work, school, or other organization. You turned on Advanced Protection.\n",
        "\n",
        "5. At the bottom, choose Select app and choose the app you using and then Select device and choose the device you’re using and then Generate.\n",
        "\n",
        "6. Follow the instructions to enter the App Password. The App Password is the 16-character code in the yellow bar on your device.\n",
        "\n",
        "7. Tap Done.\n",
        "\n",
        "---\n",
        "\n"
      ],
      "metadata": {
        "id": "GTMLrQh2F0F_"
      }
    },
    {
      "cell_type": "markdown",
      "source": [
        "## SENDING EMAIL-S  FOR  OTP-VERIFICATION\n",
        "\n",
        "Python already has a library that lets you connect to an SMTP server, like the one Gmail uses. This library is called, predictably, smtplib and comes included with Python.\n",
        "\n",
        "SMTP (Simple Mail Transfer Protocol) is an application-level protocol (on top of TCP) used to communicate with mail servers from external services, like an email client on your phone. SMTP is a delivery protocol only, so you can't actually retrieve email with it, you can only send email, which is what we'll be focusing on in this article. If you want to retrieve email instead, then you'll want to check out the IMAP (Internet Message Access Protocol) protocol.\n",
        "\n",
        "I should note that many email services, like Gmail, don't usually use SMTP on their internal mail servers. SMTP is usually just provided as an outward-facing interface to their service via the smtp.gmail.com server. This is mostly meant to be used by email clients on your phone or computer (like Outlook, Thunderbird, etc).\n",
        "\n",
        "Using smtplib library, there are a few different ways you can create a connection to your mail server. In this section, we'll focus on creating a plain, insecure connection (which should rarely, if ever, be used). This connection is unencrypted and defaults to port 25. However, the protocol for mail submission actually uses 587, which is what we'll use."
      ],
      "metadata": {
        "id": "bBvZPSZzIVBJ"
      }
    },
    {
      "cell_type": "markdown",
      "source": [
        "In the above text or a paragraph we going to learn about SMTP(Simple mail transfer protocol)\n",
        "\n",
        "* this will help us to send an random OTP number from main mail id to my dummy mail-id.\n"
      ],
      "metadata": {
        "id": "2vCuB05EIk-5"
      }
    },
    {
      "cell_type": "markdown",
      "source": [
        "Develop a function to simulate sending the OTP to the user's email address."
      ],
      "metadata": {
        "id": "fsnAiA1pKXxR"
      }
    },
    {
      "cell_type": "code",
      "source": [
        "def send_otp_to_email(user_email, otp_generated):\n",
        "    \"\"\"Send OTP to user's email.\"\"\"\n",
        "    smtp_server = 'smtp.gmail.com'\n",
        "    smtp_port = 587                           # smtp_port number\n",
        "    sender_email = 'rahul12mgowda@gmail.com'  # Update with your email address\n",
        "    sender_password = 'excbcgsdlvpalhgi'       # Update with your email password  (APP Passwords)--------------->  the steps where return above.\n",
        "\n",
        "    # Format the message\n",
        "    message = f'Subject: OTP\\n\\nYour OTP is: {otp_generated}'  # this message which is sent from main mail-id to dummy mail_id with a message\n",
        "\n",
        "    try:                                                        # Excetion handling\n",
        "        # Connect to the SMTP server\n",
        "        server = smtplib.SMTP(smtp_server, smtp_port)        # the  smtp library which helps for server connection\n",
        "        server.starttls()\n",
        "        # Login to your email account\n",
        "        server.login(sender_email, sender_password)           # from this library i will get the generated otp from main mail-id to my dummy mail-id\n",
        "        # Send the email\n",
        "        server.sendmail(sender_email, user_email, message)\n",
        "        print(\"OTP has been sent to your email.\")\n",
        "    except Exception as e:\n",
        "        print(f\"An error occurred while sending the OTP: {e}\")    # the mail-id which has been added if wrong then it pop-up a message to your dummy mail-id\n",
        "    finally:\n",
        "        # Close the connection\n",
        "        server.quit()"
      ],
      "metadata": {
        "id": "Gr6FgNKYD7Bq"
      },
      "execution_count": 10,
      "outputs": []
    },
    {
      "cell_type": "markdown",
      "source": [
        "Create a function to prompt the user to enter the OTP received in their email."
      ],
      "metadata": {
        "id": "2H4PA543KbgY"
      }
    },
    {
      "cell_type": "code",
      "source": [
        "def prompt_user_for_otp():\n",
        "    \"\"\"Prompt the user to enter the OTP.\"\"\"\n",
        "    while True:\n",
        "        otp_input = input(\"Please enter the 6-digit OTP received in your email: \")\n",
        "        if re.match(\"^\\d{6}$\", otp_input):                                              # this line which help you to know that regular expression\n",
        "              return otp_input                                                          # where to verify other than number no charater or special characters has been taken\n",
        "        else:\n",
        "            print(\"Invalid OTP format. Please enter a 6-digit number.\")"
      ],
      "metadata": {
        "id": "JZ5ZYA0iEAaX"
      },
      "execution_count": 11,
      "outputs": []
    },
    {
      "cell_type": "markdown",
      "source": [
        "Implement a function to verify if the entered OTP matches the generated OTP."
      ],
      "metadata": {
        "id": "xaQbaw3xKSWw"
      }
    },
    {
      "cell_type": "code",
      "source": [
        "def verify_otp(otp_generated, otp_entered):\n",
        "    \"\"\"Verify if entered OTP matches the generated OTP.\"\"\"          # this  line of code help you to verify or compare the otp entered and generated otp or correct.\n",
        "    return otp_generated == otp_entered"
      ],
      "metadata": {
        "id": "h6shTMVBECgV"
      },
      "execution_count": 12,
      "outputs": []
    },
    {
      "cell_type": "markdown",
      "source": [
        "Ensure proper error handling and user-friendly prompts throughout the system.\n",
        "\n",
        "Allow the user to retry OTP entry in case of incorrect input."
      ],
      "metadata": {
        "id": "0lKf8d9wKlJc"
      }
    },
    {
      "cell_type": "code",
      "source": [
        "def main():\n",
        "    # Simulate sending OTP to user's email\n",
        "    user_email = input(\"Please enter your email address: \")                   # you need to enter your dummy email-address.\n",
        "    otp_generated = generate_otp()\n",
        "    send_otp_to_email(user_email, otp_generated)\n",
        "\n",
        "    # Prompt user to enter OTP and verify\n",
        "    attempts = 3                                             # only three atempts where given to enter the proper code\n",
        "    while attempts > 0:                                      # if the entered code is proper or verified than it shows verification successful.\n",
        "        entered_otp = prompt_user_for_otp()\n",
        "        if verify_otp(otp_generated, entered_otp):\n",
        "            print(\"OTP verification successful. Access granted.\")\n",
        "            break\n",
        "        else:\n",
        "            attempts -= 1                                   # the OTP entered is not correct than it pop up with a meaage incorrect OTP. and also attempts remaining.\n",
        "            if attempts > 0:\n",
        "                print(f\"Incorrect OTP. You have {attempts} attempts remaining. Please try again.\")\n",
        "            else:\n",
        "                print(\"You've exceeded the maximum number of attempts. Access denied.\") # if all the three attempts where done then it pop-up with message called access denied.\n",
        "                break\n",
        "\n",
        "if __name__ == \"__main__\":\n",
        "    main()"
      ],
      "metadata": {
        "colab": {
          "base_uri": "https://localhost:8080/"
        },
        "id": "VHfCELk8EFzf",
        "outputId": "9696261f-29c8-4ae2-ea40-0e7640e2c023"
      },
      "execution_count": 13,
      "outputs": [
        {
          "output_type": "stream",
          "name": "stdout",
          "text": [
            "Please enter your email address: rahulmariswamy1412@gmail.com\n",
            "OTP has been sent to your email.\n",
            "Please enter the 6-digit OTP received in your email: 892759\n",
            "Incorrect OTP. You have 2 attempts remaining. Please try again.\n",
            "Please enter the 6-digit OTP received in your email: 892751\n",
            "OTP verification successful. Access granted.\n"
          ]
        }
      ]
    }
  ]
}